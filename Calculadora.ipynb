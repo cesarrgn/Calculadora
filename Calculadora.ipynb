{
 "cells": [
  {
   "cell_type": "code",
   "execution_count": 6,
   "id": "8486bcfa-a50b-4300-9252-9bfe5e7d0fae",
   "metadata": {},
   "outputs": [
    {
     "name": "stdin",
     "output_type": "stream",
     "text": [
      "Digite o primeiro número:  5\n",
      "Digite o segundo número:  3\n"
     ]
    },
    {
     "name": "stdout",
     "output_type": "stream",
     "text": [
      "\n",
      "Escolha uma operação:\n",
      "1. Adição (+)\n",
      "2. Subtração (-)\n",
      "3. Multiplicação (*)\n",
      "4. Divisão (/)\n"
     ]
    },
    {
     "name": "stdin",
     "output_type": "stream",
     "text": [
      "Digite o número da operação desejada:  3\n"
     ]
    },
    {
     "name": "stdout",
     "output_type": "stream",
     "text": [
      "\n",
      "Resultado: 15\n",
      "\n"
     ]
    },
    {
     "name": "stdin",
     "output_type": "stream",
     "text": [
      "Deseja realizar outra operação? (s/n):  n\n"
     ]
    },
    {
     "name": "stdout",
     "output_type": "stream",
     "text": [
      "Operações finalizadas.\n"
     ]
    }
   ],
   "source": [
    "# Função para solicitar números ao usuário e converter para int ou float\n",
    "def solicitar_numeros():\n",
    "    num1 = input(\"Digite o primeiro número: \")\n",
    "    num2 = input(\"Digite o segundo número: \")\n",
    "    try:\n",
    "        num1 = float(num1) if '.' in num1 else int(num1)\n",
    "        num2 = float(num2) if '.' in num2 else int(num2)\n",
    "    except ValueError:\n",
    "        print(\"Entrada inválida. Por favor, digite números válidos.\")\n",
    "        return solicitar_numeros()  # Solicita os números novamente em caso de erro\n",
    "    return num1, num2\n",
    "\n",
    "# Função para realizar a operação escolhida pelo usuário\n",
    "def calcular(num1, num2, operacao):\n",
    "    if operacao == 1:\n",
    "        return num1 + num2\n",
    "    elif operacao == 2:\n",
    "        return num1 - num2\n",
    "    elif operacao == 3:\n",
    "        return num1 * num2\n",
    "    elif operacao == 4:\n",
    "        return num1 / num2 if num2 != 0 else \"Divisão por zero não permitida.\"\n",
    "    else:\n",
    "        return \"Operação inválida.\"\n",
    "\n",
    "# Função para solicitar uma operação válida\n",
    "def solicitar_operacao():\n",
    "    while True:\n",
    "        try:\n",
    "            operacao = int(input(\"Digite o número da operação desejada: \"))\n",
    "            if operacao in [1, 2, 3, 4]:\n",
    "                return operacao\n",
    "            else:\n",
    "                print(\"Por favor, escolha uma operação válida (1, 2, 3 ou 4).\")\n",
    "        except ValueError:\n",
    "            print(\"Entrada inválida. Por favor, digite um número.\")\n",
    "\n",
    "# Loop para permitir várias operações consecutivas\n",
    "while True:\n",
    "    num1, num2 = solicitar_numeros()\n",
    "\n",
    "    print(\"\\nEscolha uma operação:\")\n",
    "    print(\"1. Adição (+)\")\n",
    "    print(\"2. Subtração (-)\")\n",
    "    print(\"3. Multiplicação (*)\")\n",
    "    print(\"4. Divisão (/)\")\n",
    "\n",
    "    operacao = solicitar_operacao()\n",
    "    resultado = calcular(num1, num2, operacao)\n",
    "\n",
    "    print(f\"\\nResultado: {resultado}\\n\")\n",
    "\n",
    "    continuar = input(\"Deseja realizar outra operação? (s/n): \").lower()\n",
    "    if continuar != 's':\n",
    "        print(\"Operações finalizadas.\")\n",
    "        break"
   ]
  },
  {
   "cell_type": "code",
   "execution_count": null,
   "id": "2ffe6047-e3af-4705-9fe7-ccf5509adf81",
   "metadata": {},
   "outputs": [],
   "source": []
  }
 ],
 "metadata": {
  "kernelspec": {
   "display_name": "Python 3 (ipykernel)",
   "language": "python",
   "name": "python3"
  },
  "language_info": {
   "codemirror_mode": {
    "name": "ipython",
    "version": 3
   },
   "file_extension": ".py",
   "mimetype": "text/x-python",
   "name": "python",
   "nbconvert_exporter": "python",
   "pygments_lexer": "ipython3",
   "version": "3.12.4"
  }
 },
 "nbformat": 4,
 "nbformat_minor": 5
}
